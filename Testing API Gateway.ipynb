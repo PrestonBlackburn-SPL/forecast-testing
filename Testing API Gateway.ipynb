{
 "cells": [
  {
   "cell_type": "code",
   "execution_count": 23,
   "id": "896fa14b-de58-4ce7-b47d-6cfa8f55ebc1",
   "metadata": {},
   "outputs": [],
   "source": [
    "import requests\n",
    "import time\n",
    "import json\n",
    "from concurrent.futures import ThreadPoolExecutor"
   ]
  },
  {
   "cell_type": "code",
   "execution_count": 37,
   "id": "bcf60ed8-d0fe-445d-b3f8-55c352fb0302",
   "metadata": {},
   "outputs": [],
   "source": [
    "data = {\n",
    "    \"Series Name\": \"Test Series\",\n",
    "    \"Data\": [0.26, 0.349, 0.34299999999999997, 0.299, 0.16, 0.33399999999999996, 0.33299999999999996, 0.319, 0.298, 0.299, 0.32, 0.261, 0.303, 0.292, 0.28600000000000003, 0.301, 0.31, 0.321, 0.299, 0.335, 0.298, 0.34, 0.39899999999999997, 0.298, 0.359, 0.299, 0.349, 0.308, 0.278, 0.26899999999999996, 0.321, 0.401, 0.42, 0.39799999999999996, 0.379, 0.332, 0.39899999999999997, 0.26, 0.3, 0.25, 0.23399999999999999, 0.301, 0.222, 0.222, 0.313, 0.057999999999999996, 0.125, 0.114, 0.12, 0.134, 0.14800000000000002, 0.166, 0.267, 0.126, 0.125, 0.172, 0.153],\n",
    "    \"Date\": [\"05/11/2018\", \"09/26/2018\", \"11/26/2018\", \"01/17/2019\", \"03/29/2019\", \"04/12/2019\", \"04/29/2019\", \"05/16/2019\", \"06/07/2019\", \"06/24/2019\", \"07/17/2019\", \"08/01/2019\", \"08/16/2019\", \"09/10/2019\", \"09/27/2019\", \"10/08/2019\", \"11/18/2019\", \"12/16/2019\", \"12/30/2019\", \"01/13/2020\", \"01/27/2020\", \"02/07/2020\", \"02/24/2020\", \"03/11/2020\", \"03/24/2020\", \"04/09/2020\", \"05/12/2020\", \"05/27/2020\", \"06/07/2020\", \"07/29/2020\", \"08/10/2020\", \"08/24/2020\", \"09/09/2020\", \"09/22/2020\", \"10/06/2020\", \"10/22/2020\", \"11/04/2020\", \"11/20/2020\", \"12/02/2020\", \"12/18/2020\", \"01/04/2021\", \"01/20/2021\", \"02/17/2021\", \"03/02/2021\", \"03/17/2021\", \"04/22/2021\", \"04/28/2021\", \"05/06/2021\", \"05/18/2021\", \"06/08/2021\", \"06/17/2021\", \"07/07/2021\", \"07/15/2021\", \"08/03/2021\", \"08/11/2021\", \"09/08/2021\", \"09/16/2021\"],\n",
    "    \"Prediction Length\": 5\n",
    "}\n",
    "\n",
    "url= \"https://kf6uzslw5l.execute-api.us-east-2.amazonaws.com/dev/get_forecast\"\n",
    "headers = {\"content-type\":\"application/json\", \"Authorization\": \"test\"}"
   ]
  },
  {
   "cell_type": "code",
   "execution_count": 38,
   "id": "f0548707-52ba-400b-a970-51154bb6a2f9",
   "metadata": {},
   "outputs": [],
   "source": [
    "def post_url(args):\n",
    "    return requests.post(args[0], json=args[1], headers=args[2])"
   ]
  },
  {
   "cell_type": "code",
   "execution_count": 39,
   "id": "1eef4d90-8300-4591-b6dd-3d4f0f115849",
   "metadata": {},
   "outputs": [],
   "source": [
    "post_data = [(url, data, headers)] * 10"
   ]
  },
  {
   "cell_type": "code",
   "execution_count": 40,
   "id": "bfabf09e-a5f1-4475-9cb6-6e00b762712a",
   "metadata": {},
   "outputs": [
    {
     "name": "stdout",
     "output_type": "stream",
     "text": [
      "{'Series Name': 'Test Series', 'Forecast': [0.157, 0.157, 0.157, 0.157, 0.157], 'Lower Conf Interval': [0.061, 0.053, 0.045, 0.038, 0.032], 'Upper Conf Interval': [0.253, 0.261, 0.268, 0.275, 0.282], 'Forecast Dates': ['10/07/2021', '10/29/2021', '11/20/2021', '12/12/2021', '01/03/2022']}\n",
      "{'Series Name': 'Test Series', 'Forecast': [0.157, 0.157, 0.157, 0.157, 0.157], 'Lower Conf Interval': [0.061, 0.053, 0.045, 0.038, 0.032], 'Upper Conf Interval': [0.253, 0.261, 0.268, 0.275, 0.282], 'Forecast Dates': ['10/07/2021', '10/29/2021', '11/20/2021', '12/12/2021', '01/03/2022']}\n",
      "{'Series Name': 'Test Series', 'Forecast': [0.157, 0.157, 0.157, 0.157, 0.157], 'Lower Conf Interval': [0.061, 0.053, 0.045, 0.038, 0.032], 'Upper Conf Interval': [0.253, 0.261, 0.268, 0.275, 0.282], 'Forecast Dates': ['10/07/2021', '10/29/2021', '11/20/2021', '12/12/2021', '01/03/2022']}\n",
      "{'Series Name': 'Test Series', 'Forecast': [0.157, 0.157, 0.157, 0.157, 0.157], 'Lower Conf Interval': [0.061, 0.053, 0.045, 0.038, 0.032], 'Upper Conf Interval': [0.253, 0.261, 0.268, 0.275, 0.282], 'Forecast Dates': ['10/07/2021', '10/29/2021', '11/20/2021', '12/12/2021', '01/03/2022']}\n",
      "{'Series Name': 'Test Series', 'Forecast': [0.157, 0.157, 0.157, 0.157, 0.157], 'Lower Conf Interval': [0.061, 0.053, 0.045, 0.038, 0.032], 'Upper Conf Interval': [0.253, 0.261, 0.268, 0.275, 0.282], 'Forecast Dates': ['10/07/2021', '10/29/2021', '11/20/2021', '12/12/2021', '01/03/2022']}\n",
      "{'Series Name': 'Test Series', 'Forecast': [0.157, 0.157, 0.157, 0.157, 0.157], 'Lower Conf Interval': [0.061, 0.053, 0.045, 0.038, 0.032], 'Upper Conf Interval': [0.253, 0.261, 0.268, 0.275, 0.282], 'Forecast Dates': ['10/07/2021', '10/29/2021', '11/20/2021', '12/12/2021', '01/03/2022']}\n",
      "{'Series Name': 'Test Series', 'Forecast': [0.157, 0.157, 0.157, 0.157, 0.157], 'Lower Conf Interval': [0.061, 0.053, 0.045, 0.038, 0.032], 'Upper Conf Interval': [0.253, 0.261, 0.268, 0.275, 0.282], 'Forecast Dates': ['10/07/2021', '10/29/2021', '11/20/2021', '12/12/2021', '01/03/2022']}\n",
      "{'Series Name': 'Test Series', 'Forecast': [0.157, 0.157, 0.157, 0.157, 0.157], 'Lower Conf Interval': [0.061, 0.053, 0.045, 0.038, 0.032], 'Upper Conf Interval': [0.253, 0.261, 0.268, 0.275, 0.282], 'Forecast Dates': ['10/07/2021', '10/29/2021', '11/20/2021', '12/12/2021', '01/03/2022']}\n",
      "{'Series Name': 'Test Series', 'Forecast': [0.157, 0.157, 0.157, 0.157, 0.157], 'Lower Conf Interval': [0.061, 0.053, 0.045, 0.038, 0.032], 'Upper Conf Interval': [0.253, 0.261, 0.268, 0.275, 0.282], 'Forecast Dates': ['10/07/2021', '10/29/2021', '11/20/2021', '12/12/2021', '01/03/2022']}\n",
      "{'Series Name': 'Test Series', 'Forecast': [0.157, 0.157, 0.157, 0.157, 0.157], 'Lower Conf Interval': [0.061, 0.053, 0.045, 0.038, 0.032], 'Upper Conf Interval': [0.253, 0.261, 0.268, 0.275, 0.282], 'Forecast Dates': ['10/07/2021', '10/29/2021', '11/20/2021', '12/12/2021', '01/03/2022']}\n",
      "call time:  2.6987054347991943\n"
     ]
    }
   ],
   "source": [
    "t1 = time.time()\n",
    "\n",
    "with ThreadPoolExecutor(max_workers = 10) as pool:\n",
    "    response_list = list(pool.map(post_url, post_data))\n",
    "\n",
    "for response in response_list:\n",
    "    print(response.json())\n",
    "        \n",
    "t2 = time.time()\n",
    "print(\"call time: \", t2 - t1)"
   ]
  },
  {
   "cell_type": "code",
   "execution_count": null,
   "id": "dd4ee0bd-a550-4d7d-a5a7-b4d19df97b79",
   "metadata": {},
   "outputs": [],
   "source": []
  }
 ],
 "metadata": {
  "kernelspec": {
   "display_name": "Python 3",
   "language": "python",
   "name": "python3"
  },
  "language_info": {
   "codemirror_mode": {
    "name": "ipython",
    "version": 3
   },
   "file_extension": ".py",
   "mimetype": "text/x-python",
   "name": "python",
   "nbconvert_exporter": "python",
   "pygments_lexer": "ipython3",
   "version": "3.8.8"
  }
 },
 "nbformat": 4,
 "nbformat_minor": 5
}
